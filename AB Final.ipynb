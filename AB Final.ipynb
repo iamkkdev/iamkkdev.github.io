{
 "cells": [
  {
   "cell_type": "code",
   "execution_count": 1,
   "metadata": {},
   "outputs": [
    {
     "name": "stderr",
     "output_type": "stream",
     "text": [
      "/Users/krishnadevabhaktuni/anaconda3/lib/python3.7/site-packages/statsmodels/tools/_testing.py:19: FutureWarning: pandas.util.testing is deprecated. Use the functions in the public API at pandas.testing instead.\n",
      "  import pandas.util.testing as tm\n"
     ]
    }
   ],
   "source": [
    "#importing libraries\n",
    "%matplotlib inline\n",
    "import pandas as pd\n",
    "import math\n",
    "import numpy as np\n",
    "import matplotlib.pyplot as plt\n",
    "from scipy import stats\n",
    "import csv\n",
    "from datetime import datetime\n",
    "from sklearn.preprocessing import LabelEncoder\n",
    "from random import random, seed\n",
    "import seaborn as sns"
   ]
  },
  {
   "cell_type": "markdown",
   "metadata": {},
   "source": [
    "## https://www.kaggle.com/henriqueyamahata/bank-marketing\n"
   ]
  },
  {
   "cell_type": "markdown",
   "metadata": {},
   "source": [
    "\n",
    "\n",
    "###   Data Dictionary\n",
    "- Age (numeric)\n",
    "- Job : type of job (categorical: 'admin.', 'blue-collar', 'entrepreneur', 'housemaid', 'management', 'retired',            'self-employed', 'services', 'student', 'technician', 'unemployed', 'unknown')\n",
    "- Marital : marital status (categorical: 'divorced', 'married', 'single', 'unknown' ; note: 'divorced' means divorced or widowed)\n",
    "- Education (categorical: 'basic.4y', 'basic.6y', 'basic.9y', 'high.school', \n",
    "             'illiterate', 'professional.course', 'university.degree', 'unknown')\n",
    "- Default: has credit in default? (categorical: 'no', 'yes', 'unknown')\n",
    "- Housing: has housing loan? (categorical: 'no', 'yes', 'unknown')\n",
    "- Loan: has personal loan? (categorical: 'no', 'yes', 'unknown')"
   ]
  },
  {
   "cell_type": "markdown",
   "metadata": {},
   "source": [
    "- A Consumer Price Index measures changes in the price level of a weighted average market basket of consumer goods and services purchased by households.\n",
    "- Consumer Confidence Index:  It measures consumers' levels of optimism regarding current economic conditions.\n",
    "- y - has the client subscribed a term deposit? (binary: 'yes', 'no')\n",
    "- The Euro Interbank Offered Rate (Euribor) is a daily reference rate, published by the European Money Markets Institute, based on the averaged interest rates at which Eurozone banks offer to lend unsecured funds"
   ]
  },
  {
   "cell_type": "code",
   "execution_count": 2,
   "metadata": {},
   "outputs": [
    {
     "name": "stdout",
     "output_type": "stream",
     "text": [
      "   age        job  marital    education  default housing loan    contact  \\\n",
      "0   56  housemaid  married     basic.4y       no      no   no  telephone   \n",
      "1   57   services  married  high.school  unknown      no   no  telephone   \n",
      "2   37   services  married  high.school       no     yes   no  telephone   \n",
      "\n",
      "  month day_of_week  ...  campaign  pdays  previous     poutcome emp.var.rate  \\\n",
      "0   may         mon  ...         1    999         0  nonexistent          1.1   \n",
      "1   may         mon  ...         1    999         0  nonexistent          1.1   \n",
      "2   may         mon  ...         1    999         0  nonexistent          1.1   \n",
      "\n",
      "   cons.price.idx  cons.conf.idx  euribor3m  nr.employed   y  \n",
      "0          93.994          -36.4      4.857       5191.0  no  \n",
      "1          93.994          -36.4      4.857       5191.0  no  \n",
      "2          93.994          -36.4      4.857       5191.0  no  \n",
      "\n",
      "[3 rows x 21 columns]\n"
     ]
    }
   ],
   "source": [
    "#importing a baning dataset from kaggle, using the lenk below\n",
    "#https://www.kaggle.com/henriqueyamahata/bank-marketing\n",
    "banking = pd.read_csv('bank-additional-full.csv', sep = ';')\n",
    "#Getting to know the data\n",
    "print(banking.head(3))"
   ]
  },
  {
   "cell_type": "code",
   "execution_count": 3,
   "metadata": {},
   "outputs": [],
   "source": [
    "banking_new = banking.loc[:, ['age', 'month', 'marital' , 'education', 'y']]"
   ]
  },
  {
   "cell_type": "code",
   "execution_count": 4,
   "metadata": {},
   "outputs": [],
   "source": [
    "le = LabelEncoder()\n",
    "banking_new['status'] = le.fit_transform(banking['y'])"
   ]
  },
  {
   "cell_type": "code",
   "execution_count": 5,
   "metadata": {},
   "outputs": [],
   "source": [
    "banking_new.drop('y', axis = 1, inplace = True)"
   ]
  },
  {
   "cell_type": "code",
   "execution_count": 6,
   "metadata": {},
   "outputs": [],
   "source": [
    "banking_new = banking_new[(banking_new.marital == 'married')|(banking_new.marital == 'single')]"
   ]
  },
  {
   "cell_type": "code",
   "execution_count": 7,
   "metadata": {},
   "outputs": [
    {
     "name": "stdout",
     "output_type": "stream",
     "text": [
      "(36496, 5)\n"
     ]
    }
   ],
   "source": [
    "print(banking_new.shape)"
   ]
  },
  {
   "cell_type": "code",
   "execution_count": 8,
   "metadata": {},
   "outputs": [
    {
     "name": "stdout",
     "output_type": "stream",
     "text": [
      "                 age  month  marital          education        status\n",
      "count   36496.000000  36496    36496              36496  36496.000000\n",
      "unique           NaN     10        2                  8           NaN\n",
      "top              NaN    may  married  university.degree           NaN\n",
      "freq             NaN  12248    24928              10800           NaN\n",
      "mean       39.407415    NaN      NaN                NaN      0.113766\n",
      "std        10.230551    NaN      NaN                NaN      0.317531\n",
      "min        17.000000    NaN      NaN                NaN      0.000000\n",
      "25%        32.000000    NaN      NaN                NaN      0.000000\n",
      "50%        37.000000    NaN      NaN                NaN      0.000000\n",
      "75%        46.000000    NaN      NaN                NaN      0.000000\n",
      "max        98.000000    NaN      NaN                NaN      1.000000\n"
     ]
    }
   ],
   "source": [
    "print(banking_new.describe(include = 'all'))"
   ]
  },
  {
   "cell_type": "code",
   "execution_count": 9,
   "metadata": {},
   "outputs": [
    {
     "data": {
      "text/plain": [
       "(array([0.00037425, 0.        , 0.        , 0.        , 0.        ,\n",
       "        0.        , 0.        , 0.        , 0.        , 0.00037425]),\n",
       " array([11568., 12904., 14240., 15576., 16912., 18248., 19584., 20920.,\n",
       "        22256., 23592., 24928.]),\n",
       " <a list of 10 Patch objects>)"
      ]
     },
     "execution_count": 9,
     "metadata": {},
     "output_type": "execute_result"
    },
    {
     "data": {
      "image/png": "[encoded data removed]",
      "text/plain": [
       "<Figure size 432x288 with 1 Axes>"
      ]
     },
     "metadata": {
      "needs_background": "light"
     },
     "output_type": "display_data"
    }
   ],
   "source": [
    "plt.hist(banking_new['marital'].value_counts(), density = True)"
   ]
  },
  {
   "cell_type": "code",
   "execution_count": 10,
   "metadata": {},
   "outputs": [
    {
     "data": {
      "text/plain": [
       "0   -36.4\n",
       "1   -36.4\n",
       "2   -36.4\n",
       "3   -36.4\n",
       "4   -36.4\n",
       "Name: cons.conf.idx, dtype: float64"
      ]
     },
     "execution_count": 10,
     "metadata": {},
     "output_type": "execute_result"
    }
   ],
   "source": [
    "banking['cons.conf.idx'].head()\n",
    "# A month-on-month decreasing trend suggests consumers have a negative outlook on their ability to \n",
    "#secure and retain good jobs. Thus, manufacturers may expect consumers to avoid retail purchases, \n",
    "#particularly large-ticket items that require financing."
   ]
  },
  {
   "cell_type": "code",
   "execution_count": 11,
   "metadata": {},
   "outputs": [
    {
     "data": {
      "text/plain": [
       "93.994    7763\n",
       "93.918    6685\n",
       "92.893    5794\n",
       "93.444    5175\n",
       "94.465    4374\n",
       "93.200    3616\n",
       "93.075    2458\n",
       "92.201     770\n",
       "92.963     715\n",
       "92.431     447\n",
       "92.649     357\n",
       "94.215     311\n",
       "94.199     303\n",
       "92.843     282\n",
       "92.379     267\n",
       "93.369     264\n",
       "94.027     233\n",
       "94.055     229\n",
       "93.876     212\n",
       "94.601     204\n",
       "92.469     178\n",
       "93.749     174\n",
       "92.713     172\n",
       "94.767     128\n",
       "93.798      67\n",
       "92.756      10\n",
       "Name: cons.price.idx, dtype: int64"
      ]
     },
     "execution_count": 11,
     "metadata": {},
     "output_type": "execute_result"
    }
   ],
   "source": [
    "banking['cons.price.idx'].value_counts()"
   ]
  },
  {
   "cell_type": "code",
   "execution_count": 12,
   "metadata": {},
   "outputs": [],
   "source": [
    "numeric_df = banking.select_dtypes(include =['int', 'float'])\n",
    "corr = numeric_df.corr()"
   ]
  },
  {
   "cell_type": "code",
   "execution_count": 13,
   "metadata": {},
   "outputs": [
    {
     "data": {
      "text/plain": [
       "(array([0.5, 1.5, 2.5, 3.5, 4.5, 5.5, 6.5, 7.5, 8.5, 9.5]),\n",
       " <a list of 10 Text yticklabel objects>)"
      ]
     },
     "execution_count": 13,
     "metadata": {},
     "output_type": "execute_result"
    },
    {
     "data": {
      "image/png": "[encoded data removed]",
      "text/plain": [
       "<Figure size 2880x2880 with 2 Axes>"
      ]
     },
     "metadata": {
      "needs_background": "light"
     },
     "output_type": "display_data"
    }
   ],
   "source": [
    "# Heatmap for closer look into correlation\n",
    "plt.figure(figsize = (40,40))\n",
    "sns.heatmap(corr, square = True, annot = True, linewidths = 0.5)\n",
    "plt.title(\"Correlation Matrix Startup Data\", fontsize = 30)\n",
    "plt.xticks(fontsize = 16)\n",
    "plt.yticks(fontsize = 16)"
   ]
  },
  {
   "cell_type": "code",
   "execution_count": 14,
   "metadata": {},
   "outputs": [],
   "source": [
    "le = LabelEncoder()\n",
    "y_status = le.fit_transform(banking['y'])\n",
    "banking['y_status'] = y_status"
   ]
  },
  {
   "cell_type": "code",
   "execution_count": 15,
   "metadata": {},
   "outputs": [],
   "source": [
    "marital_df = banking[(banking.marital == 'married')| (banking.marital == 'single')]"
   ]
  },
  {
   "cell_type": "code",
   "execution_count": 16,
   "metadata": {},
   "outputs": [
    {
     "data": {
      "text/html": [
       "<div>\n",
       "<style scoped>\n",
       "    .dataframe tbody tr th:only-of-type {\n",
       "        vertical-align: middle;\n",
       "    }\n",
       "\n",
       "    .dataframe tbody tr th {\n",
       "        vertical-align: top;\n",
       "    }\n",
       "\n",
       "    .dataframe thead th {\n",
       "        text-align: right;\n",
       "    }\n",
       "</style>\n",
       "<table border=\"1\" class=\"dataframe\">\n",
       "  <thead>\n",
       "    <tr style=\"text-align: right;\">\n",
       "      <th>month</th>\n",
       "      <th>apr</th>\n",
       "      <th>aug</th>\n",
       "      <th>dec</th>\n",
       "      <th>jul</th>\n",
       "      <th>jun</th>\n",
       "      <th>mar</th>\n",
       "      <th>may</th>\n",
       "      <th>nov</th>\n",
       "      <th>oct</th>\n",
       "      <th>sep</th>\n",
       "    </tr>\n",
       "    <tr>\n",
       "      <th>marital</th>\n",
       "      <th></th>\n",
       "      <th></th>\n",
       "      <th></th>\n",
       "      <th></th>\n",
       "      <th></th>\n",
       "      <th></th>\n",
       "      <th></th>\n",
       "      <th></th>\n",
       "      <th></th>\n",
       "      <th></th>\n",
       "    </tr>\n",
       "  </thead>\n",
       "  <tbody>\n",
       "    <tr>\n",
       "      <th>married</th>\n",
       "      <td>0.183201</td>\n",
       "      <td>0.100199</td>\n",
       "      <td>0.526316</td>\n",
       "      <td>0.087386</td>\n",
       "      <td>0.089254</td>\n",
       "      <td>0.452991</td>\n",
       "      <td>0.058492</td>\n",
       "      <td>0.088305</td>\n",
       "      <td>0.453634</td>\n",
       "      <td>0.429003</td>\n",
       "    </tr>\n",
       "    <tr>\n",
       "      <th>single</th>\n",
       "      <td>0.253102</td>\n",
       "      <td>0.118612</td>\n",
       "      <td>0.448980</td>\n",
       "      <td>0.096901</td>\n",
       "      <td>0.158009</td>\n",
       "      <td>0.530120</td>\n",
       "      <td>0.080611</td>\n",
       "      <td>0.126214</td>\n",
       "      <td>0.445783</td>\n",
       "      <td>0.481481</td>\n",
       "    </tr>\n",
       "  </tbody>\n",
       "</table>\n",
       "</div>"
      ],
      "text/plain": [
       "month         apr       aug       dec       jul       jun       mar       may  \\\n",
       "marital                                                                         \n",
       "married  0.183201  0.100199  0.526316  0.087386  0.089254  0.452991  0.058492   \n",
       "single   0.253102  0.118612  0.448980  0.096901  0.158009  0.530120  0.080611   \n",
       "\n",
       "month         nov       oct       sep  \n",
       "marital                                \n",
       "married  0.088305  0.453634  0.429003  \n",
       "single   0.126214  0.445783  0.481481  "
      ]
     },
     "execution_count": 16,
     "metadata": {},
     "output_type": "execute_result"
    }
   ],
   "source": [
    "marital_df.pivot_table(values = 'y_status', index = 'marital', columns = 'month')"
   ]
  },
  {
   "cell_type": "code",
   "execution_count": 17,
   "metadata": {},
   "outputs": [],
   "source": [
    "married_df = marital_df[marital_df.marital == 'married']\n",
    "single_df = marital_df[marital_df.marital == 'single']"
   ]
  },
  {
   "cell_type": "code",
   "execution_count": 95,
   "metadata": {},
   "outputs": [
    {
     "data": {
      "image/png": "[encoded data removed]",
      "text/plain": [
       "<Figure size 432x288 with 1 Axes>"
      ]
     },
     "metadata": {
      "needs_background": "light"
     },
     "output_type": "display_data"
    }
   ],
   "source": [
    "plt.hist(married_df['y_status'].mean(), label = 'married', alpha = 0.5, color = 'red')\n",
    "plt.hist(single_df['y_status'].mean(), label = 'single', alpha = 0.5, color = 'black')\n",
    "plt.legend(loc = 'best')\n",
    "plt.show()"
   ]
  },
  {
   "cell_type": "code",
   "execution_count": 108,
   "metadata": {},
   "outputs": [
    {
     "data": {
      "text/plain": [
       "<matplotlib.axes._subplots.AxesSubplot at 0x7fef7e6ee2e8>"
      ]
     },
     "execution_count": 108,
     "metadata": {},
     "output_type": "execute_result"
    },
    {
     "data": {
      "image/png": "[encoded data removed]",
      "text/plain": [
       "<Figure size 432x288 with 1 Axes>"
      ]
     },
     "metadata": {
      "needs_background": "light"
     },
     "output_type": "display_data"
    }
   ],
   "source": [
    "marital_df.groupby('marital')['y_status'].mean().plot(kind='bar')"
   ]
  },
  {
   "cell_type": "code",
   "execution_count": 111,
   "metadata": {},
   "outputs": [
    {
     "data": {
      "text/plain": [
       "<matplotlib.axes._subplots.AxesSubplot at 0x7fef7ea18a20>"
      ]
     },
     "execution_count": 111,
     "metadata": {},
     "output_type": "execute_result"
    },
    {
     "data": {
      "image/png": "[encoded data removed]",
      "text/plain": [
       "<Figure size 432x288 with 1 Axes>"
      ]
     },
     "metadata": {
      "needs_background": "light"
     },
     "output_type": "display_data"
    }
   ],
   "source": [
    "married_summer.groupby('marital')['y_status'].mean().plot(kind='bar')"
   ]
  },
  {
   "cell_type": "code",
   "execution_count": 113,
   "metadata": {},
   "outputs": [],
   "source": [
    "data = [['married', 0.09], ['single', 0.12]]"
   ]
  },
  {
   "cell_type": "code",
   "execution_count": 116,
   "metadata": {},
   "outputs": [],
   "source": [
    "df = pd.DataFrame(data, columns = ['marital', 'y_status'])"
   ]
  },
  {
   "cell_type": "code",
   "execution_count": 118,
   "metadata": {},
   "outputs": [
    {
     "data": {
      "text/plain": [
       "<matplotlib.axes._subplots.AxesSubplot at 0x7fef7d8ab438>"
      ]
     },
     "execution_count": 118,
     "metadata": {},
     "output_type": "execute_result"
    },
    {
     "data": {
      "image/png": "[encoded data removed]",
      "text/plain": [
       "<Figure size 432x288 with 1 Axes>"
      ]
     },
     "metadata": {
      "needs_background": "light"
     },
     "output_type": "display_data"
    }
   ],
   "source": [
    "df.groupby('marital')['y_status'].mean().plot(kind='bar')"
   ]
  },
  {
   "cell_type": "code",
   "execution_count": 119,
   "metadata": {},
   "outputs": [],
   "source": [
    "data1 = [['married', 0.1520], ['single', 0.2287]]\n",
    "df1 = pd.DataFrame(data1, columns = ['marital', 'y_status'])"
   ]
  },
  {
   "cell_type": "code",
   "execution_count": 120,
   "metadata": {},
   "outputs": [
    {
     "data": {
      "text/plain": [
       "<matplotlib.axes._subplots.AxesSubplot at 0x7fef5f6b3240>"
      ]
     },
     "execution_count": 120,
     "metadata": {},
     "output_type": "execute_result"
    },
    {
     "data": {
      "image/png": "[encoded data removed]",
      "text/plain": [
       "<Figure size 432x288 with 1 Axes>"
      ]
     },
     "metadata": {
      "needs_background": "light"
     },
     "output_type": "display_data"
    }
   ],
   "source": [
    "df1.groupby('marital')['y_status'].mean().plot(kind='bar')"
   ]
  },
  {
   "cell_type": "code",
   "execution_count": null,
   "metadata": {},
   "outputs": [],
   "source": []
  },
  {
   "cell_type": "code",
   "execution_count": 20,
   "metadata": {},
   "outputs": [
    {
     "data": {
      "text/plain": [
       "0.1400414937759336"
      ]
     },
     "execution_count": 20,
     "metadata": {},
     "output_type": "execute_result"
    }
   ],
   "source": [
    "single_df['y_status'].mean()\n"
   ]
  },
  {
   "cell_type": "code",
   "execution_count": 21,
   "metadata": {},
   "outputs": [],
   "source": [
    "married_summer = married_df[(married_df.month == 'may')|(married_df.month == 'june')|\n",
    "                            (married_df.month == 'july')|(married_df.month == 'august')|\n",
    "                           (married_df.month == 'sep')|(married_df.month == 'oct')]\n",
    "\n",
    "single_summer =  single_df[(single_df.month == 'may')|(single_df.month == 'june')|\n",
    "                            (single_df.month == 'july')|(single_df.month == 'august')|\n",
    "                           (single_df.month == 'sep')|(single_df.month == 'oct')]"
   ]
  },
  {
   "cell_type": "code",
   "execution_count": 22,
   "metadata": {},
   "outputs": [],
   "source": [
    "married_winter = married_df[(married_df.month == 'nov')|(married_df.month == 'dec')|\n",
    "                            (married_df.month == 'jan')|(married_df.month == 'feb')|\n",
    "                           (married_df.month == 'mar')|(married_df.month == 'apr')]\n",
    "\n",
    "single_winter =  single_df[(single_df.month == 'nov')|(single_df.month == 'dec')|\n",
    "                            (single_df.month == 'jan')|(single_df.month == 'feb')|\n",
    "                           (single_df.month == 'mar')|(single_df.month == 'apr')]"
   ]
  },
  {
   "cell_type": "code",
   "execution_count": 23,
   "metadata": {},
   "outputs": [
    {
     "name": "stdout",
     "output_type": "stream",
     "text": [
      "The Average Subscription rate of Single in Summer: 0.1206\n",
      "The Average Subscription rate of Married in Summer: 0.0888\n"
     ]
    }
   ],
   "source": [
    "print(\"The Average Subscription rate of Single in Summer: {:.4f}\".format(single_summer['y_status'].mean())\n",
    ")\n",
    "print(\"The Average Subscription rate of Married in Summer: {:.4f}\".format(married_summer['y_status'].mean()))\n"
   ]
  },
  {
   "cell_type": "code",
   "execution_count": 24,
   "metadata": {},
   "outputs": [],
   "source": [
    "ttest_summer = stats.ttest_ind(married_summer['y_status'], single_summer['y_status'])"
   ]
  },
  {
   "cell_type": "code",
   "execution_count": 25,
   "metadata": {},
   "outputs": [
    {
     "name": "stdout",
     "output_type": "stream",
     "text": [
      "The pvalue of one tailed ttest is 0.0000\n"
     ]
    }
   ],
   "source": [
    "print(\"The pvalue of one tailed ttest is {:.4f}\".format(ttest_summer.pvalue/2))"
   ]
  },
  {
   "cell_type": "code",
   "execution_count": 26,
   "metadata": {},
   "outputs": [
    {
     "data": {
      "text/plain": [
       "[[Text(0, 0, 'Single'), Text(0, 0, 'Married')]]"
      ]
     },
     "execution_count": 26,
     "metadata": {},
     "output_type": "execute_result"
    },
    {
     "data": {
      "image/png": "[encoded data removed]",
      "text/plain": [
       "<Figure size 432x288 with 1 Axes>"
      ]
     },
     "metadata": {
      "needs_background": "light"
     },
     "output_type": "display_data"
    }
   ],
   "source": [
    "g_summer = sns.pointplot(data=[single_summer['y_status'],\n",
    "                        married_summer['y_status']], join=True)\n",
    "                        \n",
    "g_summer.set(xticklabels = ['Single', 'Married'])"
   ]
  },
  {
   "cell_type": "code",
   "execution_count": 27,
   "metadata": {},
   "outputs": [
    {
     "name": "stdout",
     "output_type": "stream",
     "text": [
      "The Average Subscription rate of Single in Winter: 0.2287\n",
      "The Average Subscription rate of Married in Winter: 0.1520\n"
     ]
    }
   ],
   "source": [
    "print(\"The Average Subscription rate of Single in Winter: {:.4f}\".format(single_winter['y_status'].mean()))\n",
    "print(\"The Average Subscription rate of Married in Winter: {:.4f}\".format(married_winter['y_status'].mean()))"
   ]
  },
  {
   "cell_type": "code",
   "execution_count": 28,
   "metadata": {},
   "outputs": [],
   "source": [
    "ttest_winter = stats.ttest_ind(married_winter['y_status'], single_winter['y_status'])"
   ]
  },
  {
   "cell_type": "code",
   "execution_count": 29,
   "metadata": {},
   "outputs": [
    {
     "name": "stdout",
     "output_type": "stream",
     "text": [
      "The pvalue of one tailed ttest is 0.0000\n"
     ]
    }
   ],
   "source": [
    "print(\"The pvalue of one tailed ttest is {:.4f}\".format(ttest_winter.pvalue/2))"
   ]
  },
  {
   "cell_type": "code",
   "execution_count": 30,
   "metadata": {},
   "outputs": [
    {
     "data": {
      "text/plain": [
       "[[Text(0, 0, 'Single'), Text(0, 0, 'Married')]]"
      ]
     },
     "execution_count": 30,
     "metadata": {},
     "output_type": "execute_result"
    },
    {
     "data": {
      "image/png": "[encoded data removed]",
      "text/plain": [
       "<Figure size 432x288 with 1 Axes>"
      ]
     },
     "metadata": {
      "needs_background": "light"
     },
     "output_type": "display_data"
    }
   ],
   "source": [
    "g_winter = sns.pointplot(data=[single_winter['y_status'],\n",
    "                        married_winter['y_status']], join=True)\n",
    "                        \n",
    "g_winter.set(xticklabels = ['Single', 'Married'])"
   ]
  },
  {
   "cell_type": "code",
   "execution_count": null,
   "metadata": {},
   "outputs": [],
   "source": []
  },
  {
   "cell_type": "markdown",
   "metadata": {},
   "source": [
    "#### It appears that the mean subscription rate is higher in singles in most of months except July, August and October"
   ]
  },
  {
   "cell_type": "code",
   "execution_count": 31,
   "metadata": {},
   "outputs": [],
   "source": [
    "#Lets compare the groups between the ages of 30 and 50 only\n",
    "marital_age = marital_df[(marital_df.age >= 30) & (marital_df.age <=50)]"
   ]
  },
  {
   "cell_type": "code",
   "execution_count": 99,
   "metadata": {},
   "outputs": [],
   "source": [
    "married_age = married_df[(married_df.age >= 30) & (married_df.age <= 50)]\n",
    "single_age = single_df[(single_df.age >= 30) & (single_df.age <= 50)]"
   ]
  },
  {
   "cell_type": "code",
   "execution_count": 100,
   "metadata": {},
   "outputs": [
    {
     "name": "stdout",
     "output_type": "stream",
     "text": [
      "The Average Subscription rate of Single between age 30-50: 0.1126\n",
      "The Average Subscription rate of Married between age 30-50: 0.0862\n"
     ]
    }
   ],
   "source": [
    "print(\"The Average Subscription rate of Single between age 30-50: {:.4f}\".format(single_age['y_status'].mean())\n",
    ")\n",
    "print(\"The Average Subscription rate of Married between age 30-50: {:.4f}\".format(married_age['y_status'].mean()))\n"
   ]
  },
  {
   "cell_type": "code",
   "execution_count": 101,
   "metadata": {},
   "outputs": [
    {
     "data": {
      "text/plain": [
       "[[Text(0, 0, 'Single'), Text(0, 0, 'Married')]]"
      ]
     },
     "execution_count": 101,
     "metadata": {},
     "output_type": "execute_result"
    },
    {
     "data": {
      "image/png": "[encoded data removed]",
      "text/plain": [
       "<Figure size 432x288 with 1 Axes>"
      ]
     },
     "metadata": {
      "needs_background": "light"
     },
     "output_type": "display_data"
    }
   ],
   "source": [
    "g_age = sns.pointplot(data=[single_age['y_status'],\n",
    "                        married_age['y_status']], join=True)\n",
    "                        \n",
    "g_age.set(xticklabels = ['Single', 'Married'])"
   ]
  },
  {
   "cell_type": "code",
   "execution_count": 102,
   "metadata": {},
   "outputs": [],
   "source": [
    "ttest_age = stats.ttest_ind(single_uni['y_status'], married_uni['y_status'])"
   ]
  },
  {
   "cell_type": "code",
   "execution_count": 105,
   "metadata": {},
   "outputs": [
    {
     "name": "stdout",
     "output_type": "stream",
     "text": [
      "The pvalue of one tailed ttest is: 0.0244\n"
     ]
    }
   ],
   "source": [
    "print(\"The pvalue of one tailed ttest is: {:.4f}\".format(ttest_age.pvalue/2))"
   ]
  },
  {
   "cell_type": "code",
   "execution_count": null,
   "metadata": {},
   "outputs": [],
   "source": []
  },
  {
   "cell_type": "code",
   "execution_count": 32,
   "metadata": {},
   "outputs": [
    {
     "data": {
      "text/html": [
       "<div>\n",
       "<style scoped>\n",
       "    .dataframe tbody tr th:only-of-type {\n",
       "        vertical-align: middle;\n",
       "    }\n",
       "\n",
       "    .dataframe tbody tr th {\n",
       "        vertical-align: top;\n",
       "    }\n",
       "\n",
       "    .dataframe thead th {\n",
       "        text-align: right;\n",
       "    }\n",
       "</style>\n",
       "<table border=\"1\" class=\"dataframe\">\n",
       "  <thead>\n",
       "    <tr style=\"text-align: right;\">\n",
       "      <th>month</th>\n",
       "      <th>apr</th>\n",
       "      <th>aug</th>\n",
       "      <th>dec</th>\n",
       "      <th>jul</th>\n",
       "      <th>jun</th>\n",
       "      <th>mar</th>\n",
       "      <th>may</th>\n",
       "      <th>nov</th>\n",
       "      <th>oct</th>\n",
       "      <th>sep</th>\n",
       "    </tr>\n",
       "    <tr>\n",
       "      <th>marital</th>\n",
       "      <th></th>\n",
       "      <th></th>\n",
       "      <th></th>\n",
       "      <th></th>\n",
       "      <th></th>\n",
       "      <th></th>\n",
       "      <th></th>\n",
       "      <th></th>\n",
       "      <th></th>\n",
       "      <th></th>\n",
       "    </tr>\n",
       "  </thead>\n",
       "  <tbody>\n",
       "    <tr>\n",
       "      <th>married</th>\n",
       "      <td>0.143506</td>\n",
       "      <td>0.084648</td>\n",
       "      <td>0.5</td>\n",
       "      <td>0.079511</td>\n",
       "      <td>0.079151</td>\n",
       "      <td>0.483871</td>\n",
       "      <td>0.052591</td>\n",
       "      <td>0.069681</td>\n",
       "      <td>0.504902</td>\n",
       "      <td>0.456522</td>\n",
       "    </tr>\n",
       "    <tr>\n",
       "      <th>single</th>\n",
       "      <td>0.206452</td>\n",
       "      <td>0.088650</td>\n",
       "      <td>0.5</td>\n",
       "      <td>0.080972</td>\n",
       "      <td>0.122699</td>\n",
       "      <td>0.542373</td>\n",
       "      <td>0.073150</td>\n",
       "      <td>0.089133</td>\n",
       "      <td>0.441667</td>\n",
       "      <td>0.476744</td>\n",
       "    </tr>\n",
       "  </tbody>\n",
       "</table>\n",
       "</div>"
      ],
      "text/plain": [
       "month         apr       aug  dec       jul       jun       mar       may  \\\n",
       "marital                                                                    \n",
       "married  0.143506  0.084648  0.5  0.079511  0.079151  0.483871  0.052591   \n",
       "single   0.206452  0.088650  0.5  0.080972  0.122699  0.542373  0.073150   \n",
       "\n",
       "month         nov       oct       sep  \n",
       "marital                                \n",
       "married  0.069681  0.504902  0.456522  \n",
       "single   0.089133  0.441667  0.476744  "
      ]
     },
     "execution_count": 32,
     "metadata": {},
     "output_type": "execute_result"
    }
   ],
   "source": [
    "marital_age.pivot_table(values = 'y_status', index = 'marital', columns = 'month')"
   ]
  },
  {
   "cell_type": "markdown",
   "metadata": {},
   "source": [
    "#### Single and Married groups have equal subscription rates in months of August, December and slightly higher in July, May, November, September. We can see that singles have higher subscription rate in April, June, March and October between the ages of 30 and 50.  "
   ]
  },
  {
   "cell_type": "markdown",
   "metadata": {},
   "source": [
    "#### Subscription rates are different for few months when compared between the ages of 30 and 50. For Example the subscription rates in October for all ages was almost same but the subscription rates for singles increased significantly in October between ages 30 and 50"
   ]
  },
  {
   "cell_type": "code",
   "execution_count": 33,
   "metadata": {},
   "outputs": [
    {
     "name": "stdout",
     "output_type": "stream",
     "text": [
      "university.degree      7808\n",
      "high.school            5572\n",
      "basic.9y               3757\n",
      "professional.course    3294\n",
      "basic.4y               2135\n",
      "basic.6y               1665\n",
      "unknown                 901\n",
      "illiterate                7\n",
      "Name: education, dtype: int64\n"
     ]
    },
    {
     "data": {
      "image/png": "[encoded data removed]",
      "text/plain": [
       "<Figure size 432x288 with 1 Axes>"
      ]
     },
     "metadata": {
      "needs_background": "light"
     },
     "output_type": "display_data"
    }
   ],
   "source": [
    "plt.hist(marital_age.education, density = True)\n",
    "plt.xticks(rotation = 90)\n",
    "print(marital_age['education'].value_counts())"
   ]
  },
  {
   "cell_type": "code",
   "execution_count": 34,
   "metadata": {},
   "outputs": [],
   "source": [
    "##df.loc[(df.Event == 'Dance'),'Event']='Hip-Hop'\n",
    "##df['Event'] = np.where((df.Event == 'Painting'),'Art',df.Event)"
   ]
  },
  {
   "cell_type": "code",
   "execution_count": 35,
   "metadata": {},
   "outputs": [
    {
     "name": "stderr",
     "output_type": "stream",
     "text": [
      "/Users/krishnadevabhaktuni/anaconda3/lib/python3.7/site-packages/ipykernel_launcher.py:1: SettingWithCopyWarning: \n",
      "A value is trying to be set on a copy of a slice from a DataFrame.\n",
      "Try using .loc[row_indexer,col_indexer] = value instead\n",
      "\n",
      "See the caveats in the documentation: https://pandas.pydata.org/pandas-docs/stable/user_guide/indexing.html#returning-a-view-versus-a-copy\n",
      "  \"\"\"Entry point for launching an IPython kernel.\n"
     ]
    }
   ],
   "source": [
    "marital_age['education'] = np.where((marital_age['education'] == 'basic.9y'), 'basic.6y', marital_age.education)"
   ]
  },
  {
   "cell_type": "code",
   "execution_count": 36,
   "metadata": {},
   "outputs": [
    {
     "name": "stderr",
     "output_type": "stream",
     "text": [
      "/Users/krishnadevabhaktuni/anaconda3/lib/python3.7/site-packages/ipykernel_launcher.py:1: SettingWithCopyWarning: \n",
      "A value is trying to be set on a copy of a slice from a DataFrame.\n",
      "Try using .loc[row_indexer,col_indexer] = value instead\n",
      "\n",
      "See the caveats in the documentation: https://pandas.pydata.org/pandas-docs/stable/user_guide/indexing.html#returning-a-view-versus-a-copy\n",
      "  \"\"\"Entry point for launching an IPython kernel.\n"
     ]
    }
   ],
   "source": [
    "marital_age['education'] = np.where((marital_age['education'] == 'basic.6y'), 'basic.4y', marital_age.education)"
   ]
  },
  {
   "cell_type": "code",
   "execution_count": 37,
   "metadata": {},
   "outputs": [
    {
     "data": {
      "text/plain": [
       "([0, 1, 2, 3, 4, 5], <a list of 6 Text xticklabel objects>)"
      ]
     },
     "execution_count": 37,
     "metadata": {},
     "output_type": "execute_result"
    },
    {
     "data": {
      "image/png": "[encoded data removed]",
      "text/plain": [
       "<Figure size 432x288 with 1 Axes>"
      ]
     },
     "metadata": {
      "needs_background": "light"
     },
     "output_type": "display_data"
    }
   ],
   "source": [
    "plt.hist(marital_age.education, density = True)\n",
    "plt.xticks(rotation = 90)"
   ]
  },
  {
   "cell_type": "code",
   "execution_count": 38,
   "metadata": {},
   "outputs": [],
   "source": [
    "bank_yes = banking[(banking.y_status == 1)]"
   ]
  },
  {
   "cell_type": "code",
   "execution_count": 39,
   "metadata": {},
   "outputs": [
    {
     "data": {
      "text/plain": [
       "(array([ 476.,    0.,    0., 2532.,    0.,    0., 1620.,    0.,    0.,\n",
       "          12.]),\n",
       " array([0. , 0.3, 0.6, 0.9, 1.2, 1.5, 1.8, 2.1, 2.4, 2.7, 3. ]),\n",
       " <a list of 10 Patch objects>)"
      ]
     },
     "execution_count": 39,
     "metadata": {},
     "output_type": "execute_result"
    },
    {
     "data": {
      "image/png": "[encoded data removed]",
      "text/plain": [
       "<Figure size 432x288 with 1 Axes>"
      ]
     },
     "metadata": {
      "needs_background": "light"
     },
     "output_type": "display_data"
    }
   ],
   "source": [
    "plt.hist(bank_yes['marital'])"
   ]
  },
  {
   "cell_type": "code",
   "execution_count": 40,
   "metadata": {},
   "outputs": [
    {
     "data": {
      "text/html": [
       "<div>\n",
       "<style scoped>\n",
       "    .dataframe tbody tr th:only-of-type {\n",
       "        vertical-align: middle;\n",
       "    }\n",
       "\n",
       "    .dataframe tbody tr th {\n",
       "        vertical-align: top;\n",
       "    }\n",
       "\n",
       "    .dataframe thead th {\n",
       "        text-align: right;\n",
       "    }\n",
       "</style>\n",
       "<table border=\"1\" class=\"dataframe\">\n",
       "  <thead>\n",
       "    <tr style=\"text-align: right;\">\n",
       "      <th>education</th>\n",
       "      <th>basic.4y</th>\n",
       "      <th>high.school</th>\n",
       "      <th>illiterate</th>\n",
       "      <th>professional.course</th>\n",
       "      <th>university.degree</th>\n",
       "      <th>unknown</th>\n",
       "    </tr>\n",
       "    <tr>\n",
       "      <th>marital</th>\n",
       "      <th></th>\n",
       "      <th></th>\n",
       "      <th></th>\n",
       "      <th></th>\n",
       "      <th></th>\n",
       "      <th></th>\n",
       "    </tr>\n",
       "  </thead>\n",
       "  <tbody>\n",
       "    <tr>\n",
       "      <th>married</th>\n",
       "      <td>0.060549</td>\n",
       "      <td>0.080946</td>\n",
       "      <td>0.142857</td>\n",
       "      <td>0.096844</td>\n",
       "      <td>0.119570</td>\n",
       "      <td>0.086342</td>\n",
       "    </tr>\n",
       "    <tr>\n",
       "      <th>single</th>\n",
       "      <td>0.073251</td>\n",
       "      <td>0.104697</td>\n",
       "      <td>NaN</td>\n",
       "      <td>0.099898</td>\n",
       "      <td>0.134703</td>\n",
       "      <td>0.136364</td>\n",
       "    </tr>\n",
       "  </tbody>\n",
       "</table>\n",
       "</div>"
      ],
      "text/plain": [
       "education  basic.4y  high.school  illiterate  professional.course  \\\n",
       "marital                                                             \n",
       "married    0.060549     0.080946    0.142857             0.096844   \n",
       "single     0.073251     0.104697         NaN             0.099898   \n",
       "\n",
       "education  university.degree   unknown  \n",
       "marital                                 \n",
       "married             0.119570  0.086342  \n",
       "single              0.134703  0.136364  "
      ]
     },
     "execution_count": 40,
     "metadata": {},
     "output_type": "execute_result"
    }
   ],
   "source": [
    "marital_age.pivot_table(values = 'y_status', index = 'marital', columns = 'education')"
   ]
  },
  {
   "cell_type": "code",
   "execution_count": 41,
   "metadata": {},
   "outputs": [],
   "source": [
    "marital_age_uni = marital_age[marital_age['education'] == 'university.degree']\n",
    "marital_age_basic = marital_age[marital_age['education'] == 'basic.4y']\n",
    "marital_age_hschool = marital_age[marital_age['education'] == 'high.school' ]\n",
    "marital_age_profcourse = marital_age[marital_age['education'] == 'professional.course']"
   ]
  },
  {
   "cell_type": "code",
   "execution_count": 42,
   "metadata": {},
   "outputs": [
    {
     "data": {
      "text/html": [
       "<div>\n",
       "<style scoped>\n",
       "    .dataframe tbody tr th:only-of-type {\n",
       "        vertical-align: middle;\n",
       "    }\n",
       "\n",
       "    .dataframe tbody tr th {\n",
       "        vertical-align: top;\n",
       "    }\n",
       "\n",
       "    .dataframe thead th {\n",
       "        text-align: right;\n",
       "    }\n",
       "</style>\n",
       "<table border=\"1\" class=\"dataframe\">\n",
       "  <thead>\n",
       "    <tr style=\"text-align: right;\">\n",
       "      <th>month</th>\n",
       "      <th>apr</th>\n",
       "      <th>aug</th>\n",
       "      <th>dec</th>\n",
       "      <th>jul</th>\n",
       "      <th>jun</th>\n",
       "      <th>mar</th>\n",
       "      <th>may</th>\n",
       "      <th>nov</th>\n",
       "      <th>oct</th>\n",
       "      <th>sep</th>\n",
       "    </tr>\n",
       "    <tr>\n",
       "      <th>marital</th>\n",
       "      <th></th>\n",
       "      <th></th>\n",
       "      <th></th>\n",
       "      <th></th>\n",
       "      <th></th>\n",
       "      <th></th>\n",
       "      <th></th>\n",
       "      <th></th>\n",
       "      <th></th>\n",
       "      <th></th>\n",
       "    </tr>\n",
       "  </thead>\n",
       "  <tbody>\n",
       "    <tr>\n",
       "      <th>married</th>\n",
       "      <td>0.254682</td>\n",
       "      <td>0.086109</td>\n",
       "      <td>0.608696</td>\n",
       "      <td>0.102740</td>\n",
       "      <td>0.146520</td>\n",
       "      <td>0.436364</td>\n",
       "      <td>0.061739</td>\n",
       "      <td>0.082153</td>\n",
       "      <td>0.527473</td>\n",
       "      <td>0.426966</td>\n",
       "    </tr>\n",
       "    <tr>\n",
       "      <th>single</th>\n",
       "      <td>0.288462</td>\n",
       "      <td>0.079385</td>\n",
       "      <td>0.583333</td>\n",
       "      <td>0.102908</td>\n",
       "      <td>0.177994</td>\n",
       "      <td>0.538462</td>\n",
       "      <td>0.074271</td>\n",
       "      <td>0.104439</td>\n",
       "      <td>0.521739</td>\n",
       "      <td>0.421053</td>\n",
       "    </tr>\n",
       "  </tbody>\n",
       "</table>\n",
       "</div>"
      ],
      "text/plain": [
       "month         apr       aug       dec       jul       jun       mar       may  \\\n",
       "marital                                                                         \n",
       "married  0.254682  0.086109  0.608696  0.102740  0.146520  0.436364  0.061739   \n",
       "single   0.288462  0.079385  0.583333  0.102908  0.177994  0.538462  0.074271   \n",
       "\n",
       "month         nov       oct       sep  \n",
       "marital                                \n",
       "married  0.082153  0.527473  0.426966  \n",
       "single   0.104439  0.521739  0.421053  "
      ]
     },
     "execution_count": 42,
     "metadata": {},
     "output_type": "execute_result"
    }
   ],
   "source": [
    "marital_age_uni.pivot_table(values = 'y_status', index = 'marital', columns = 'month')"
   ]
  },
  {
   "cell_type": "code",
   "execution_count": 43,
   "metadata": {},
   "outputs": [
    {
     "data": {
      "text/html": [
       "<div>\n",
       "<style scoped>\n",
       "    .dataframe tbody tr th:only-of-type {\n",
       "        vertical-align: middle;\n",
       "    }\n",
       "\n",
       "    .dataframe tbody tr th {\n",
       "        vertical-align: top;\n",
       "    }\n",
       "\n",
       "    .dataframe thead th {\n",
       "        text-align: right;\n",
       "    }\n",
       "</style>\n",
       "<table border=\"1\" class=\"dataframe\">\n",
       "  <thead>\n",
       "    <tr style=\"text-align: right;\">\n",
       "      <th>month</th>\n",
       "      <th>apr</th>\n",
       "      <th>aug</th>\n",
       "      <th>dec</th>\n",
       "      <th>jul</th>\n",
       "      <th>jun</th>\n",
       "      <th>mar</th>\n",
       "      <th>may</th>\n",
       "      <th>nov</th>\n",
       "      <th>oct</th>\n",
       "      <th>sep</th>\n",
       "    </tr>\n",
       "    <tr>\n",
       "      <th>marital</th>\n",
       "      <th></th>\n",
       "      <th></th>\n",
       "      <th></th>\n",
       "      <th></th>\n",
       "      <th></th>\n",
       "      <th></th>\n",
       "      <th></th>\n",
       "      <th></th>\n",
       "      <th></th>\n",
       "      <th></th>\n",
       "    </tr>\n",
       "  </thead>\n",
       "  <tbody>\n",
       "    <tr>\n",
       "      <th>married</th>\n",
       "      <td>0.080292</td>\n",
       "      <td>0.075547</td>\n",
       "      <td>0.285714</td>\n",
       "      <td>0.067527</td>\n",
       "      <td>0.059003</td>\n",
       "      <td>0.444444</td>\n",
       "      <td>0.04837</td>\n",
       "      <td>0.039683</td>\n",
       "      <td>0.225806</td>\n",
       "      <td>0.48</td>\n",
       "    </tr>\n",
       "    <tr>\n",
       "      <th>single</th>\n",
       "      <td>0.100000</td>\n",
       "      <td>0.214286</td>\n",
       "      <td>NaN</td>\n",
       "      <td>0.058091</td>\n",
       "      <td>0.076023</td>\n",
       "      <td>0.333333</td>\n",
       "      <td>0.07069</td>\n",
       "      <td>0.048387</td>\n",
       "      <td>0.285714</td>\n",
       "      <td>0.40</td>\n",
       "    </tr>\n",
       "  </tbody>\n",
       "</table>\n",
       "</div>"
      ],
      "text/plain": [
       "month         apr       aug       dec       jul       jun       mar      may  \\\n",
       "marital                                                                        \n",
       "married  0.080292  0.075547  0.285714  0.067527  0.059003  0.444444  0.04837   \n",
       "single   0.100000  0.214286       NaN  0.058091  0.076023  0.333333  0.07069   \n",
       "\n",
       "month         nov       oct   sep  \n",
       "marital                            \n",
       "married  0.039683  0.225806  0.48  \n",
       "single   0.048387  0.285714  0.40  "
      ]
     },
     "execution_count": 43,
     "metadata": {},
     "output_type": "execute_result"
    }
   ],
   "source": [
    "marital_age_basic.pivot_table(values = 'y_status', index = 'marital', columns = 'month')"
   ]
  },
  {
   "cell_type": "code",
   "execution_count": 44,
   "metadata": {},
   "outputs": [
    {
     "data": {
      "text/html": [
       "<div>\n",
       "<style scoped>\n",
       "    .dataframe tbody tr th:only-of-type {\n",
       "        vertical-align: middle;\n",
       "    }\n",
       "\n",
       "    .dataframe tbody tr th {\n",
       "        vertical-align: top;\n",
       "    }\n",
       "\n",
       "    .dataframe thead th {\n",
       "        text-align: right;\n",
       "    }\n",
       "</style>\n",
       "<table border=\"1\" class=\"dataframe\">\n",
       "  <thead>\n",
       "    <tr style=\"text-align: right;\">\n",
       "      <th>month</th>\n",
       "      <th>apr</th>\n",
       "      <th>aug</th>\n",
       "      <th>dec</th>\n",
       "      <th>jul</th>\n",
       "      <th>jun</th>\n",
       "      <th>mar</th>\n",
       "      <th>may</th>\n",
       "      <th>nov</th>\n",
       "      <th>oct</th>\n",
       "      <th>sep</th>\n",
       "    </tr>\n",
       "    <tr>\n",
       "      <th>marital</th>\n",
       "      <th></th>\n",
       "      <th></th>\n",
       "      <th></th>\n",
       "      <th></th>\n",
       "      <th></th>\n",
       "      <th></th>\n",
       "      <th></th>\n",
       "      <th></th>\n",
       "      <th></th>\n",
       "      <th></th>\n",
       "    </tr>\n",
       "  </thead>\n",
       "  <tbody>\n",
       "    <tr>\n",
       "      <th>married</th>\n",
       "      <td>0.101215</td>\n",
       "      <td>0.099138</td>\n",
       "      <td>0.384615</td>\n",
       "      <td>0.083333</td>\n",
       "      <td>0.045889</td>\n",
       "      <td>0.647059</td>\n",
       "      <td>0.055481</td>\n",
       "      <td>0.065574</td>\n",
       "      <td>0.547619</td>\n",
       "      <td>0.459459</td>\n",
       "    </tr>\n",
       "    <tr>\n",
       "      <th>single</th>\n",
       "      <td>0.175926</td>\n",
       "      <td>0.138889</td>\n",
       "      <td>0.500000</td>\n",
       "      <td>0.063037</td>\n",
       "      <td>0.091837</td>\n",
       "      <td>0.700000</td>\n",
       "      <td>0.071118</td>\n",
       "      <td>0.073171</td>\n",
       "      <td>0.413793</td>\n",
       "      <td>0.619048</td>\n",
       "    </tr>\n",
       "  </tbody>\n",
       "</table>\n",
       "</div>"
      ],
      "text/plain": [
       "month         apr       aug       dec       jul       jun       mar       may  \\\n",
       "marital                                                                         \n",
       "married  0.101215  0.099138  0.384615  0.083333  0.045889  0.647059  0.055481   \n",
       "single   0.175926  0.138889  0.500000  0.063037  0.091837  0.700000  0.071118   \n",
       "\n",
       "month         nov       oct       sep  \n",
       "marital                                \n",
       "married  0.065574  0.547619  0.459459  \n",
       "single   0.073171  0.413793  0.619048  "
      ]
     },
     "execution_count": 44,
     "metadata": {},
     "output_type": "execute_result"
    }
   ],
   "source": [
    "marital_age_hschool.pivot_table(values = 'y_status', index = 'marital', columns = 'month')"
   ]
  },
  {
   "cell_type": "code",
   "execution_count": 45,
   "metadata": {},
   "outputs": [
    {
     "data": {
      "text/html": [
       "<div>\n",
       "<style scoped>\n",
       "    .dataframe tbody tr th:only-of-type {\n",
       "        vertical-align: middle;\n",
       "    }\n",
       "\n",
       "    .dataframe tbody tr th {\n",
       "        vertical-align: top;\n",
       "    }\n",
       "\n",
       "    .dataframe thead th {\n",
       "        text-align: right;\n",
       "    }\n",
       "</style>\n",
       "<table border=\"1\" class=\"dataframe\">\n",
       "  <thead>\n",
       "    <tr style=\"text-align: right;\">\n",
       "      <th>month</th>\n",
       "      <th>apr</th>\n",
       "      <th>aug</th>\n",
       "      <th>dec</th>\n",
       "      <th>jul</th>\n",
       "      <th>jun</th>\n",
       "      <th>mar</th>\n",
       "      <th>may</th>\n",
       "      <th>nov</th>\n",
       "      <th>oct</th>\n",
       "      <th>sep</th>\n",
       "    </tr>\n",
       "    <tr>\n",
       "      <th>marital</th>\n",
       "      <th></th>\n",
       "      <th></th>\n",
       "      <th></th>\n",
       "      <th></th>\n",
       "      <th></th>\n",
       "      <th></th>\n",
       "      <th></th>\n",
       "      <th></th>\n",
       "      <th></th>\n",
       "      <th></th>\n",
       "    </tr>\n",
       "  </thead>\n",
       "  <tbody>\n",
       "    <tr>\n",
       "      <th>married</th>\n",
       "      <td>0.201613</td>\n",
       "      <td>0.075435</td>\n",
       "      <td>0.428571</td>\n",
       "      <td>0.069686</td>\n",
       "      <td>0.085809</td>\n",
       "      <td>0.500000</td>\n",
       "      <td>0.051034</td>\n",
       "      <td>0.076305</td>\n",
       "      <td>0.631579</td>\n",
       "      <td>0.482759</td>\n",
       "    </tr>\n",
       "    <tr>\n",
       "      <th>single</th>\n",
       "      <td>0.095238</td>\n",
       "      <td>0.066667</td>\n",
       "      <td>0.000000</td>\n",
       "      <td>0.081633</td>\n",
       "      <td>0.115789</td>\n",
       "      <td>0.444444</td>\n",
       "      <td>0.086505</td>\n",
       "      <td>0.108434</td>\n",
       "      <td>0.250000</td>\n",
       "      <td>0.388889</td>\n",
       "    </tr>\n",
       "  </tbody>\n",
       "</table>\n",
       "</div>"
      ],
      "text/plain": [
       "month         apr       aug       dec       jul       jun       mar       may  \\\n",
       "marital                                                                         \n",
       "married  0.201613  0.075435  0.428571  0.069686  0.085809  0.500000  0.051034   \n",
       "single   0.095238  0.066667  0.000000  0.081633  0.115789  0.444444  0.086505   \n",
       "\n",
       "month         nov       oct       sep  \n",
       "marital                                \n",
       "married  0.076305  0.631579  0.482759  \n",
       "single   0.108434  0.250000  0.388889  "
      ]
     },
     "execution_count": 45,
     "metadata": {},
     "output_type": "execute_result"
    }
   ],
   "source": [
    "marital_age_profcourse.pivot_table(values = 'y_status', index = 'marital', columns = 'month')"
   ]
  },
  {
   "cell_type": "code",
   "execution_count": 46,
   "metadata": {},
   "outputs": [],
   "source": [
    "single_uni = marital_age_uni[marital_age_uni['marital'] == 'single']\n",
    "single_basic = marital_age_basic[marital_age_basic['marital'] == 'single']\n",
    "single_hschool = marital_age_hschool[marital_age_hschool['marital'] == 'single']\n",
    "single_profcourse = marital_age_profcourse[marital_age_profcourse['marital'] == 'single']\n",
    "married_uni = marital_age_uni[marital_age_uni['marital'] == 'married']\n",
    "married_basic = marital_age_basic[marital_age_basic['marital'] == 'married']\n",
    "married_hschool = marital_age_hschool[marital_age_hschool['marital'] == 'married']\n",
    "married_profcourse = marital_age_profcourse[marital_age_profcourse['marital'] == 'married']"
   ]
  },
  {
   "cell_type": "markdown",
   "metadata": {},
   "source": [
    "### We can observe a significant difference between the groups of High School Singles & Married High School educated between the ages of 30 and 50 - Pvalue = 0.003\n",
    "### We can also observe a significant difference between University Educated  Singles and University Educated Married people"
   ]
  },
  {
   "cell_type": "code",
   "execution_count": 47,
   "metadata": {},
   "outputs": [
    {
     "name": "stdout",
     "output_type": "stream",
     "text": [
      "The Average Subscription rate of Single High School Educated: 0.10\n",
      "The Average Subscription rate of Married High School Educated: 0.08\n"
     ]
    }
   ],
   "source": [
    "print(\"The Average Subscription rate of Single High School Educated: {:.2f}\".format(single_hschool['y_status'].mean())\n",
    ")\n",
    "print(\"The Average Subscription rate of Married High School Educated: {:.2f}\".format(married_hschool['y_status'].mean()))\n"
   ]
  },
  {
   "cell_type": "code",
   "execution_count": 48,
   "metadata": {},
   "outputs": [
    {
     "name": "stdout",
     "output_type": "stream",
     "text": [
      "The Average Subscription rate of Single University Educated: 0.13\n",
      "The Average Subscription rate of Married University Educated: 0.12\n"
     ]
    }
   ],
   "source": [
    "print(\"The Average Subscription rate of Single University Educated: {:.2f}\".format(single_uni['y_status'].mean())\n",
    ")\n",
    "print(\"The Average Subscription rate of Married University Educated: {:.2f}\".format(married_uni['y_status'].mean()))\n"
   ]
  },
  {
   "cell_type": "code",
   "execution_count": 49,
   "metadata": {},
   "outputs": [
    {
     "name": "stdout",
     "output_type": "stream",
     "text": [
      "Ttest_indResult(statistic=1.9713592096258175, pvalue=0.04871806682867814)\n",
      "Ttest_indResult(statistic=1.6746027616067214, pvalue=0.09405358589916811)\n",
      "Ttest_indResult(statistic=2.906856514838913, pvalue=0.0036652091392661333)\n",
      "Ttest_indResult(statistic=0.26983190036482707, pvalue=0.7873064923629551)\n"
     ]
    }
   ],
   "source": [
    "print(stats.ttest_ind(single_uni['y_status'], married_uni['y_status']))\n",
    "print(stats.ttest_ind(single_basic['y_status'], married_basic['y_status']))\n",
    "print(stats.ttest_ind(single_hschool['y_status'], married_hschool['y_status']))\n",
    "print(stats.ttest_ind(single_profcourse['y_status'], married_profcourse['y_status']))"
   ]
  },
  {
   "cell_type": "code",
   "execution_count": 50,
   "metadata": {},
   "outputs": [],
   "source": [
    "single_hsummer = single_hschool[(single_hschool.month == 'may')|(single_hschool.month == 'jun')|(single_hschool.month ==\n",
    "                                'jul')|(single_hschool.month == 'aug')|(single_hschool.month == 'sep')|\n",
    "                               (single_hschool.month == 'oct')]\n",
    "single_hwinter = single_hschool[(single_hschool.month == 'nov')|(single_hschool.month == 'dec')|(single_hschool.month ==\n",
    "                                'jan')|(single_hschool.month == 'feb')|(single_hschool.month == 'mar')|\n",
    "                               (single_hschool.month == 'apr')]"
   ]
  },
  {
   "cell_type": "code",
   "execution_count": 51,
   "metadata": {},
   "outputs": [
    {
     "name": "stdout",
     "output_type": "stream",
     "text": [
      "The Average Subscription rate of Single High School Educated in Summer: 0.09\n",
      "The Average Subscription rate of Single High School Educated in Winter: 0.15\n"
     ]
    }
   ],
   "source": [
    "print(\"The Average Subscription rate of Single High School Educated in Summer: {:.2f}\".format(single_hsummer['y_status'].mean())\n",
    ")\n",
    "print(\"The Average Subscription rate of Single High School Educated in Winter: {:.2f}\".format(single_hwinter['y_status'].mean()))\n"
   ]
  },
  {
   "cell_type": "code",
   "execution_count": 52,
   "metadata": {},
   "outputs": [
    {
     "data": {
      "text/plain": [
       "Ttest_indResult(statistic=-3.066588161563566, pvalue=0.002198034995188772)"
      ]
     },
     "execution_count": 52,
     "metadata": {},
     "output_type": "execute_result"
    }
   ],
   "source": [
    "stats.ttest_ind(single_hsummer['y_status'], single_hwinter['y_status'])"
   ]
  },
  {
   "cell_type": "markdown",
   "metadata": {},
   "source": [
    "#### The Test above is between Summer and Winter months of singles with High School Education between the ages 30 and 50. The Subscription rate is significantly lower in Summer months"
   ]
  },
  {
   "cell_type": "code",
   "execution_count": 53,
   "metadata": {},
   "outputs": [
    {
     "data": {
      "text/plain": [
       "[[Text(0, 0, 'Winter'), Text(0, 0, 'Summer')]]"
      ]
     },
     "execution_count": 53,
     "metadata": {},
     "output_type": "execute_result"
    },
    {
     "data": {
      "image/png": "[encoded data removed]",
      "text/plain": [
       "<Figure size 432x288 with 1 Axes>"
      ]
     },
     "metadata": {
      "needs_background": "light"
     },
     "output_type": "display_data"
    }
   ],
   "source": [
    "g1 = sns.pointplot(data=[single_hwinter['y_status'],\n",
    "                        single_hsummer['y_status']], join=True)\n",
    "                        \n",
    "g1.set(xticklabels = ['Winter', 'Summer'])"
   ]
  },
  {
   "cell_type": "code",
   "execution_count": null,
   "metadata": {},
   "outputs": [],
   "source": []
  },
  {
   "cell_type": "code",
   "execution_count": 54,
   "metadata": {},
   "outputs": [
    {
     "data": {
      "text/html": [
       "<div>\n",
       "<style scoped>\n",
       "    .dataframe tbody tr th:only-of-type {\n",
       "        vertical-align: middle;\n",
       "    }\n",
       "\n",
       "    .dataframe tbody tr th {\n",
       "        vertical-align: top;\n",
       "    }\n",
       "\n",
       "    .dataframe thead th {\n",
       "        text-align: right;\n",
       "    }\n",
       "</style>\n",
       "<table border=\"1\" class=\"dataframe\">\n",
       "  <thead>\n",
       "    <tr style=\"text-align: right;\">\n",
       "      <th>month</th>\n",
       "      <th>apr</th>\n",
       "      <th>aug</th>\n",
       "      <th>dec</th>\n",
       "      <th>jul</th>\n",
       "      <th>jun</th>\n",
       "      <th>mar</th>\n",
       "      <th>may</th>\n",
       "      <th>nov</th>\n",
       "      <th>oct</th>\n",
       "      <th>sep</th>\n",
       "    </tr>\n",
       "    <tr>\n",
       "      <th>housing</th>\n",
       "      <th></th>\n",
       "      <th></th>\n",
       "      <th></th>\n",
       "      <th></th>\n",
       "      <th></th>\n",
       "      <th></th>\n",
       "      <th></th>\n",
       "      <th></th>\n",
       "      <th></th>\n",
       "      <th></th>\n",
       "    </tr>\n",
       "  </thead>\n",
       "  <tbody>\n",
       "    <tr>\n",
       "      <th>no</th>\n",
       "      <td>0.139535</td>\n",
       "      <td>0.089286</td>\n",
       "      <td>NaN</td>\n",
       "      <td>0.060976</td>\n",
       "      <td>0.071429</td>\n",
       "      <td>0.750000</td>\n",
       "      <td>0.089404</td>\n",
       "      <td>0.070588</td>\n",
       "      <td>0.307692</td>\n",
       "      <td>0.700000</td>\n",
       "    </tr>\n",
       "    <tr>\n",
       "      <th>unknown</th>\n",
       "      <td>1.000000</td>\n",
       "      <td>0.000000</td>\n",
       "      <td>1.0</td>\n",
       "      <td>0.000000</td>\n",
       "      <td>0.000000</td>\n",
       "      <td>NaN</td>\n",
       "      <td>0.052632</td>\n",
       "      <td>0.200000</td>\n",
       "      <td>NaN</td>\n",
       "      <td>NaN</td>\n",
       "    </tr>\n",
       "    <tr>\n",
       "      <th>yes</th>\n",
       "      <td>0.187500</td>\n",
       "      <td>0.176471</td>\n",
       "      <td>0.4</td>\n",
       "      <td>0.065934</td>\n",
       "      <td>0.129870</td>\n",
       "      <td>0.666667</td>\n",
       "      <td>0.057065</td>\n",
       "      <td>0.069565</td>\n",
       "      <td>0.500000</td>\n",
       "      <td>0.545455</td>\n",
       "    </tr>\n",
       "  </tbody>\n",
       "</table>\n",
       "</div>"
      ],
      "text/plain": [
       "month         apr       aug  dec       jul       jun       mar       may  \\\n",
       "housing                                                                    \n",
       "no       0.139535  0.089286  NaN  0.060976  0.071429  0.750000  0.089404   \n",
       "unknown  1.000000  0.000000  1.0  0.000000  0.000000       NaN  0.052632   \n",
       "yes      0.187500  0.176471  0.4  0.065934  0.129870  0.666667  0.057065   \n",
       "\n",
       "month         nov       oct       sep  \n",
       "housing                                \n",
       "no       0.070588  0.307692  0.700000  \n",
       "unknown  0.200000       NaN       NaN  \n",
       "yes      0.069565  0.500000  0.545455  "
      ]
     },
     "execution_count": 54,
     "metadata": {},
     "output_type": "execute_result"
    }
   ],
   "source": [
    "single_hschool.pivot_table(values = 'y_status', index = 'housing', columns = 'month' )"
   ]
  },
  {
   "cell_type": "code",
   "execution_count": 55,
   "metadata": {},
   "outputs": [
    {
     "data": {
      "text/plain": [
       "yes        935\n",
       "no         793\n",
       "unknown     39\n",
       "Name: housing, dtype: int64"
      ]
     },
     "execution_count": 55,
     "metadata": {},
     "output_type": "execute_result"
    }
   ],
   "source": [
    "single_hschool['housing'].value_counts()"
   ]
  },
  {
   "cell_type": "code",
   "execution_count": 56,
   "metadata": {},
   "outputs": [
    {
     "name": "stderr",
     "output_type": "stream",
     "text": [
      "/Users/krishnadevabhaktuni/anaconda3/lib/python3.7/site-packages/ipykernel_launcher.py:3: UserWarning: Boolean Series key will be reindexed to match DataFrame index.\n",
      "  This is separate from the ipykernel package so we can avoid doing imports until\n"
     ]
    }
   ],
   "source": [
    "married_hsummer = married_hschool[(married_hschool.month == 'may')|(married_hschool.month == 'jun')|(married_hschool.month ==\n",
    "                                'jul')|(married_hschool.month == 'aug')|(married_hschool.month == 'sep')|\n",
    "                               (single_hschool.month == 'oct')]\n",
    "married_hwinter = married_hschool[(married_hschool.month == 'nov')|(married_hschool.month == 'dec')|(married_hschool.month ==\n",
    "                                'jan')|(married_hschool.month == 'feb')|(married_hschool.month == 'mar')|\n",
    "                               (married_hschool.month == 'apr')]"
   ]
  },
  {
   "cell_type": "code",
   "execution_count": 57,
   "metadata": {},
   "outputs": [
    {
     "name": "stdout",
     "output_type": "stream",
     "text": [
      "The Average Subscription rate of Married High School Educated in Summer: 0.07\n",
      "The Average Subscription rate of Married High School Educated in Winter: 0.10\n"
     ]
    }
   ],
   "source": [
    "print(\"The Average Subscription rate of Married High School Educated in Summer: {:.2f}\".format(married_hsummer['y_status'].mean())\n",
    ")\n",
    "print(\"The Average Subscription rate of Married High School Educated in Winter: {:.2f}\".format(married_hwinter['y_status'].mean()))\n"
   ]
  },
  {
   "cell_type": "code",
   "execution_count": 58,
   "metadata": {},
   "outputs": [
    {
     "data": {
      "text/plain": [
       "Ttest_indResult(statistic=-2.6701563545887166, pvalue=0.0076142068420220425)"
      ]
     },
     "execution_count": 58,
     "metadata": {},
     "output_type": "execute_result"
    }
   ],
   "source": [
    "stats.ttest_ind(married_hsummer['y_status'], married_hwinter['y_status'])"
   ]
  },
  {
   "cell_type": "markdown",
   "metadata": {},
   "source": [
    "#### Similar to Singles, Married people also have less subscription rates in Summer compared to Winter and the difference is significant from the t-test above"
   ]
  },
  {
   "cell_type": "code",
   "execution_count": 59,
   "metadata": {},
   "outputs": [
    {
     "data": {
      "text/plain": [
       "[[Text(0, 0, 'Winter'), Text(0, 0, 'Summer')]]"
      ]
     },
     "execution_count": 59,
     "metadata": {},
     "output_type": "execute_result"
    },
    {
     "data": {
      "image/png": "[encoded data removed]",
      "text/plain": [
       "<Figure size 432x288 with 1 Axes>"
      ]
     },
     "metadata": {
      "needs_background": "light"
     },
     "output_type": "display_data"
    }
   ],
   "source": [
    "g2 = sns.pointplot(data=[married_hwinter['y_status'],\n",
    "                        married_hsummer['y_status']], join=True)\n",
    "                        \n",
    "g2.set(xticklabels = ['Winter', 'Summer'])"
   ]
  },
  {
   "cell_type": "code",
   "execution_count": 60,
   "metadata": {},
   "outputs": [
    {
     "name": "stdout",
     "output_type": "stream",
     "text": [
      "The Average Subscription rate of Married High School Educated in Summer: 0.07\n",
      "The Average Subscription rate of Single High School Educated in Summer: 0.09\n"
     ]
    }
   ],
   "source": [
    "print(\"The Average Subscription rate of Married High School Educated in Summer: {:.2f}\".format(married_hsummer['y_status'].mean())\n",
    ")\n",
    "print(\"The Average Subscription rate of Single High School Educated in Summer: {:.2f}\".format(single_hsummer['y_status'].mean()))\n"
   ]
  },
  {
   "cell_type": "code",
   "execution_count": 61,
   "metadata": {},
   "outputs": [
    {
     "data": {
      "text/plain": [
       "Ttest_indResult(statistic=-2.726537131391165, pvalue=0.006424822310794557)"
      ]
     },
     "execution_count": 61,
     "metadata": {},
     "output_type": "execute_result"
    }
   ],
   "source": [
    "stats.ttest_ind(married_hsummer['y_status'], single_hsummer['y_status'])"
   ]
  },
  {
   "cell_type": "code",
   "execution_count": 62,
   "metadata": {},
   "outputs": [
    {
     "data": {
      "text/plain": [
       "[[Text(0, 0, 'Married in Summer'), Text(0, 0, 'Single in Summer')]]"
      ]
     },
     "execution_count": 62,
     "metadata": {},
     "output_type": "execute_result"
    },
    {
     "data": {
      "image/png": "[encoded data removed]",
      "text/plain": [
       "<Figure size 432x288 with 1 Axes>"
      ]
     },
     "metadata": {
      "needs_background": "light"
     },
     "output_type": "display_data"
    }
   ],
   "source": [
    "g3 = sns.pointplot(data=[married_hsummer['y_status'],\n",
    "                        single_hsummer['y_status']], join=True)\n",
    "                        \n",
    "g3.set(xticklabels = ['Married in Summer', 'Single in Summer'])"
   ]
  },
  {
   "cell_type": "code",
   "execution_count": 63,
   "metadata": {},
   "outputs": [
    {
     "name": "stdout",
     "output_type": "stream",
     "text": [
      "The Average Subscription rate of Married High School Educated in Winter: 0.10\n",
      "The Average Subscription rate of Single High School Educated in Winter: 0.15\n"
     ]
    }
   ],
   "source": [
    "print(\"The Average Subscription rate of Married High School Educated in Winter: {:.2f}\".format(married_hwinter['y_status'].mean())\n",
    ")\n",
    "print(\"The Average Subscription rate of Single High School Educated in Winter: {:.2f}\".format(single_hwinter['y_status'].mean()))\n"
   ]
  },
  {
   "cell_type": "code",
   "execution_count": 64,
   "metadata": {},
   "outputs": [
    {
     "data": {
      "text/plain": [
       "Ttest_indResult(statistic=-2.28192860189695, pvalue=0.022707219189891728)"
      ]
     },
     "execution_count": 64,
     "metadata": {},
     "output_type": "execute_result"
    }
   ],
   "source": [
    "stats.ttest_ind(married_hwinter['y_status'], single_hwinter['y_status'])"
   ]
  },
  {
   "cell_type": "code",
   "execution_count": 65,
   "metadata": {},
   "outputs": [],
   "source": [
    "single_usummer = single_uni[(single_uni.month == 'may')|(single_uni.month == 'jun')|(single_uni.month ==\n",
    "                                'jul')|(single_uni.month == 'aug')|(single_uni.month == 'sep')|\n",
    "                               (single_uni.month == 'oct')]\n",
    "single_uwinter = single_uni[(single_uni.month == 'nov')|(single_uni.month == 'dec')|(single_uni.month ==\n",
    "                                'jan')|(single_uni.month == 'feb')|(single_uni.month == 'mar')|\n",
    "                               (single_uni.month == 'apr')]"
   ]
  },
  {
   "cell_type": "code",
   "execution_count": 66,
   "metadata": {},
   "outputs": [],
   "source": [
    "married_usummer = married_uni[(married_uni.month == 'may')|(married_uni.month == 'jun')|(married_uni.month ==\n",
    "                                'jul')|(married_uni.month == 'aug')|(married_uni.month == 'sep')|\n",
    "                               (married_uni.month == 'oct')]\n",
    "married_uwinter = married_uni[(married_uni.month == 'nov')|(married_uni.month == 'dec')|(married_uni.month ==\n",
    "                                'jan')|(married_uni.month == 'feb')|(married_uni.month == 'mar')|\n",
    "                               (married_uni.month == 'apr')]"
   ]
  },
  {
   "cell_type": "code",
   "execution_count": 67,
   "metadata": {},
   "outputs": [
    {
     "name": "stdout",
     "output_type": "stream",
     "text": [
      "The Average Subscription rate of Married University Educated in Winter: 0.16\n",
      "The Average Subscription rate of Married University Educated in Summer: 0.11\n"
     ]
    }
   ],
   "source": [
    "print(\"The Average Subscription rate of Married University Educated in Winter: {:.2f}\".format(married_uwinter['y_status'].mean())\n",
    ")\n",
    "print(\"The Average Subscription rate of Married University Educated in Summer: {:.2f}\".format(single_usummer['y_status'].mean()))\n"
   ]
  },
  {
   "cell_type": "code",
   "execution_count": 68,
   "metadata": {},
   "outputs": [
    {
     "data": {
      "text/plain": [
       "Ttest_indResult(statistic=-4.137169603304265, pvalue=3.577096090884124e-05)"
      ]
     },
     "execution_count": 68,
     "metadata": {},
     "output_type": "execute_result"
    }
   ],
   "source": [
    "stats.ttest_ind(married_usummer['y_status'], married_uwinter['y_status'])"
   ]
  },
  {
   "cell_type": "code",
   "execution_count": 69,
   "metadata": {},
   "outputs": [
    {
     "data": {
      "text/plain": [
       "[[Text(0, 0, 'Married in Summer'), Text(0, 0, 'Married in Winter')]]"
      ]
     },
     "execution_count": 69,
     "metadata": {},
     "output_type": "execute_result"
    },
    {
     "data": {
      "image/png": "[encoded data removed]",
      "text/plain": [
       "<Figure size 432x288 with 1 Axes>"
      ]
     },
     "metadata": {
      "needs_background": "light"
     },
     "output_type": "display_data"
    }
   ],
   "source": [
    "g4 = sns.pointplot(data=[married_usummer['y_status'],\n",
    "                        married_uwinter['y_status']], join=True)\n",
    "                        \n",
    "g4.set(xticklabels = ['Married in Summer', 'Married in Winter'])"
   ]
  },
  {
   "cell_type": "markdown",
   "metadata": {},
   "source": [
    "#### The subscriptions again are higher in Winter than in Summer, however, the p-value is not significant in this case"
   ]
  },
  {
   "cell_type": "code",
   "execution_count": 70,
   "metadata": {},
   "outputs": [
    {
     "name": "stdout",
     "output_type": "stream",
     "text": [
      "The Average Subscription rate of Married University Educated in Winter: 0.16\n",
      "The Average Subscription rate of Single University Educated in Winter: 0.21\n"
     ]
    }
   ],
   "source": [
    "print(\"The Average Subscription rate of Married University Educated in Winter: {:.2f}\".format(married_uwinter['y_status'].mean())\n",
    ")\n",
    "print(\"The Average Subscription rate of Single University Educated in Winter: {:.2f}\".format(single_uwinter['y_status'].mean()))\n"
   ]
  },
  {
   "cell_type": "code",
   "execution_count": 71,
   "metadata": {},
   "outputs": [
    {
     "data": {
      "text/plain": [
       "Ttest_indResult(statistic=-2.992779131917352, pvalue=0.002803943607442983)"
      ]
     },
     "execution_count": 71,
     "metadata": {},
     "output_type": "execute_result"
    }
   ],
   "source": [
    "stats.ttest_ind(married_uwinter['y_status'], single_uwinter['y_status'])"
   ]
  },
  {
   "cell_type": "code",
   "execution_count": 72,
   "metadata": {},
   "outputs": [
    {
     "data": {
      "text/plain": [
       "[[Text(0, 0, 'Married in Winter'), Text(0, 0, 'Single in Winter')]]"
      ]
     },
     "execution_count": 72,
     "metadata": {},
     "output_type": "execute_result"
    },
    {
     "data": {
      "image/png": "[encoded data removed]",
      "text/plain": [
       "<Figure size 432x288 with 1 Axes>"
      ]
     },
     "metadata": {
      "needs_background": "light"
     },
     "output_type": "display_data"
    }
   ],
   "source": [
    "g5 = sns.pointplot(data=[married_uwinter['y_status'],\n",
    "                        single_uwinter['y_status']], join=True)\n",
    "                        \n",
    "g5.set(xticklabels = ['Married in Winter', 'Single in Winter'])"
   ]
  },
  {
   "cell_type": "code",
   "execution_count": 73,
   "metadata": {},
   "outputs": [
    {
     "name": "stdout",
     "output_type": "stream",
     "text": [
      "The Average Subscription rate of Married University Educated in Summer: 0.11\n",
      "The Average Subscription rate of Single University Educated in Summer: 0.11\n"
     ]
    }
   ],
   "source": [
    "print(\"The Average Subscription rate of Married University Educated in Summer: {:.2f}\".format(married_usummer['y_status'].mean())\n",
    ")\n",
    "print(\"The Average Subscription rate of Single University Educated in Summer: {:.2f}\".format(single_usummer['y_status'].mean()))\n"
   ]
  },
  {
   "cell_type": "code",
   "execution_count": 74,
   "metadata": {},
   "outputs": [
    {
     "data": {
      "text/plain": [
       "Ttest_indResult(statistic=-0.4649008048821083, pvalue=0.6420191234301265)"
      ]
     },
     "execution_count": 74,
     "metadata": {},
     "output_type": "execute_result"
    }
   ],
   "source": [
    "stats.ttest_ind(married_usummer['y_status'], single_usummer['y_status'])"
   ]
  },
  {
   "cell_type": "markdown",
   "metadata": {},
   "source": [
    "#### Interestingly the University Educated Married and single groups have the same average subscription rates in summer months"
   ]
  },
  {
   "cell_type": "code",
   "execution_count": 75,
   "metadata": {},
   "outputs": [
    {
     "name": "stdout",
     "output_type": "stream",
     "text": [
      "The Average subscription rates of Married and Single groups for calls >5: 0.054\n",
      "The Average subscription rates of Married and Single groups for calls <5: 0.099\n"
     ]
    }
   ],
   "source": [
    "## Looking into other variables like campaign calls and Duration accross various groups\n",
    "print(\"The Average subscription rates of Married and Single groups for calls >5: {:.03f}\".format(marital_age[marital_age['campaign'] >= 5]['y_status'].mean()))\n",
    "print(\"The Average subscription rates of Married and Single groups for calls <5: {:.03f}\".format(marital_age[marital_age['campaign'] < 5]['y_status'].mean()))"
   ]
  },
  {
   "cell_type": "code",
   "execution_count": 76,
   "metadata": {},
   "outputs": [
    {
     "name": "stdout",
     "output_type": "stream",
     "text": [
      "The Average subscription rates of Married and Single groups for calls >=3: 0.074\n",
      "The Average subscription rates of Married and Single groups for calls <3: 0.103\n"
     ]
    }
   ],
   "source": [
    "marital_age## Looking into other variables like campaign calls and Duration accross various groups\n",
    "print(\"The Average subscription rates of Married and Single groups for calls >=3: {:.03f}\".format(marital_age[marital_age['campaign'] >= 3]['y_status'].mean()))\n",
    "print(\"The Average subscription rates of Married and Single groups for calls <3: {:.03f}\".format(marital_age[marital_age['campaign'] < 3]['y_status'].mean()))"
   ]
  },
  {
   "cell_type": "code",
   "execution_count": 77,
   "metadata": {},
   "outputs": [
    {
     "name": "stdout",
     "output_type": "stream",
     "text": [
      "The Average subscription rates of Married and Single groups for calls >3: 0.063\n",
      "The Average subscription rates of Married and Single groups for calls <=3: 0.101\n"
     ]
    }
   ],
   "source": [
    "marital_age## Looking into other variables like campaign calls and Duration accross various groups\n",
    "print(\"The Average subscription rates of Married and Single groups for calls >3: {:.03f}\".format(marital_age[marital_age['campaign'] > 3]['y_status'].mean()))\n",
    "print(\"The Average subscription rates of Married and Single groups for calls <=3: {:.03f}\".format(marital_age[marital_age['campaign'] <= 3]['y_status'].mean()))"
   ]
  },
  {
   "cell_type": "code",
   "execution_count": 78,
   "metadata": {},
   "outputs": [
    {
     "name": "stdout",
     "output_type": "stream",
     "text": [
      "The Average subscription rates of Married and Single groups for calls >= 7: 0.040\n",
      "The Average subscription rates of Married and Single groups for calls < 7: 0.097\n"
     ]
    }
   ],
   "source": [
    "## Looking into other variables like campaign calls and Duration accross various groups\n",
    "print(\"The Average subscription rates of Married and Single groups for calls >= 7: {:.03f}\".format(marital_age[marital_age['campaign'] >= 7]['y_status'].mean()))\n",
    "print(\"The Average subscription rates of Married and Single groups for calls < 7: {:.03f}\".format(marital_age[marital_age['campaign'] < 7]['y_status'].mean()))"
   ]
  },
  {
   "cell_type": "code",
   "execution_count": 79,
   "metadata": {},
   "outputs": [],
   "source": [
    "callsg7 = marital_age[marital_age['campaign'] >= 7]\n",
    "callsl7 = marital_age[marital_age['campaign'] < 7]"
   ]
  },
  {
   "cell_type": "code",
   "execution_count": 80,
   "metadata": {},
   "outputs": [],
   "source": [
    "callsg5 = marital_age[marital_age['campaign'] >= 5]\n",
    "callsl5 = marital_age[marital_age['campaign'] < 5]"
   ]
  },
  {
   "cell_type": "code",
   "execution_count": 81,
   "metadata": {},
   "outputs": [],
   "source": [
    "callsg2 = marital_age[marital_age['campaign'] >= 3]\n",
    "callsl3 = marital_age[marital_age['campaign'] < 3]"
   ]
  },
  {
   "cell_type": "code",
   "execution_count": 82,
   "metadata": {},
   "outputs": [],
   "source": [
    "callsg3 = marital_age[marital_age['campaign'] > 3]\n",
    "callsl3 = marital_age[marital_age['campaign'] <= 3]"
   ]
  },
  {
   "cell_type": "code",
   "execution_count": 83,
   "metadata": {},
   "outputs": [
    {
     "data": {
      "text/plain": [
       "[[Text(0, 0, 'Calls >= 5'), Text(0, 0, 'Calls < 5')]]"
      ]
     },
     "execution_count": 83,
     "metadata": {},
     "output_type": "execute_result"
    },
    {
     "data": {
      "image/png": "[encoded data removed]",
      "text/plain": [
       "<Figure size 432x288 with 1 Axes>"
      ]
     },
     "metadata": {
      "needs_background": "light"
     },
     "output_type": "display_data"
    }
   ],
   "source": [
    "g6 = sns.pointplot(data=[callsg5['y_status'],\n",
    "                        callsl5['y_status']], join=True)\n",
    "                        \n",
    "g6.set(xticklabels = ['Calls >= 5', 'Calls < 5'])"
   ]
  },
  {
   "cell_type": "code",
   "execution_count": 84,
   "metadata": {},
   "outputs": [
    {
     "data": {
      "text/plain": [
       "[[Text(0, 0, 'Calls >2'), Text(0, 0, 'Calls < 3')]]"
      ]
     },
     "execution_count": 84,
     "metadata": {},
     "output_type": "execute_result"
    },
    {
     "data": {
      "image/png": "[encoded data removed]",
      "text/plain": [
       "<Figure size 432x288 with 1 Axes>"
      ]
     },
     "metadata": {
      "needs_background": "light"
     },
     "output_type": "display_data"
    }
   ],
   "source": [
    "g7 = sns.pointplot(data=[callsg2['y_status'],\n",
    "                        callsl3['y_status']], join=True)\n",
    "                        \n",
    "g7.set(xticklabels = ['Calls >2', 'Calls < 3'])"
   ]
  },
  {
   "cell_type": "code",
   "execution_count": 85,
   "metadata": {},
   "outputs": [
    {
     "data": {
      "text/plain": [
       "[[Text(0, 0, 'Calls >7'), Text(0, 0, 'Calls < 7')]]"
      ]
     },
     "execution_count": 85,
     "metadata": {},
     "output_type": "execute_result"
    },
    {
     "data": {
      "image/png": "[encoded data removed]",
      "text/plain": [
       "<Figure size 432x288 with 1 Axes>"
      ]
     },
     "metadata": {
      "needs_background": "light"
     },
     "output_type": "display_data"
    }
   ],
   "source": [
    "g7 = sns.pointplot(data=[callsg7['y_status'],\n",
    "                        callsl7['y_status']], join=True)\n",
    "                        \n",
    "g7.set(xticklabels = ['Calls >7', 'Calls < 7'])"
   ]
  },
  {
   "cell_type": "code",
   "execution_count": 86,
   "metadata": {},
   "outputs": [],
   "source": [
    "#stats.kruskal(calls_lessorequalto5['y_status'], calls_more_than_5['y_status'])"
   ]
  },
  {
   "cell_type": "code",
   "execution_count": 87,
   "metadata": {},
   "outputs": [
    {
     "data": {
      "text/plain": [
       "KruskalResult(statistic=63.37696748536311, pvalue=1.7070234730338504e-15)"
      ]
     },
     "execution_count": 87,
     "metadata": {},
     "output_type": "execute_result"
    }
   ],
   "source": [
    "stats.kruskal(callsg3['y_status'], callsl3['y_status'])"
   ]
  },
  {
   "cell_type": "code",
   "execution_count": 88,
   "metadata": {},
   "outputs": [
    {
     "data": {
      "text/plain": [
       "KruskalResult(statistic=49.2375575360497, pvalue=2.2676715182205002e-12)"
      ]
     },
     "execution_count": 88,
     "metadata": {},
     "output_type": "execute_result"
    }
   ],
   "source": [
    "stats.kruskal(callsg2['y_status'], callsl3['y_status'])"
   ]
  },
  {
   "cell_type": "code",
   "execution_count": 89,
   "metadata": {},
   "outputs": [
    {
     "data": {
      "text/plain": [
       "KruskalResult(statistic=66.7920539874604, pvalue=3.017118226396262e-16)"
      ]
     },
     "execution_count": 89,
     "metadata": {},
     "output_type": "execute_result"
    }
   ],
   "source": [
    "stats.kruskal(callsg5['y_status'], callsl5['y_status'])"
   ]
  },
  {
   "cell_type": "code",
   "execution_count": 90,
   "metadata": {},
   "outputs": [
    {
     "data": {
      "text/plain": [
       "KruskalResult(statistic=52.45608858074512, pvalue=4.399768182045638e-13)"
      ]
     },
     "execution_count": 90,
     "metadata": {},
     "output_type": "execute_result"
    }
   ],
   "source": [
    "stats.kruskal(callsg7['y_status'], callsl7['y_status'])"
   ]
  },
  {
   "cell_type": "markdown",
   "metadata": {},
   "source": [
    "####  Comparing the above subscription rates for campaign calls, we can choose 5 as the cutoff for a better subscription rate"
   ]
  },
  {
   "cell_type": "code",
   "execution_count": 91,
   "metadata": {},
   "outputs": [],
   "source": [
    "campaign_yes = marital_age[(marital_age['y_status'] == 1)]\n",
    "campaign_no = marital_age[(marital_age['y_status'] == 0)]\n"
   ]
  },
  {
   "cell_type": "code",
   "execution_count": 92,
   "metadata": {},
   "outputs": [
    {
     "name": "stdout",
     "output_type": "stream",
     "text": [
      "(array([2.066e+03, 1.930e+02, 5.500e+01, 1.800e+01, 1.800e+01, 6.000e+00,\n",
      "       0.000e+00, 3.000e+00, 0.000e+00, 1.000e+00]), array([ 1. ,  3.2,  5.4,  7.6,  9.8, 12. , 14.2, 16.4, 18.6, 20.8, 23. ]), <a list of 10 Patch objects>)\n",
      "(array([2.1374e+04, 9.8900e+02, 2.7200e+02, 7.1000e+01, 4.0000e+01,\n",
      "       2.1000e+01, 7.0000e+00, 4.0000e+00, 0.0000e+00, 1.0000e+00]), array([ 1. ,  6.5, 12. , 17.5, 23. , 28.5, 34. , 39.5, 45. , 50.5, 56. ]), <a list of 10 Patch objects>)\n"
     ]
    },
    {
     "data": {
      "image/png": "[encoded data removed]",
      "text/plain": [
       "<Figure size 432x288 with 1 Axes>"
      ]
     },
     "metadata": {
      "needs_background": "light"
     },
     "output_type": "display_data"
    }
   ],
   "source": [
    "print(plt.hist(campaign_yes['campaign'], alpha = 0.05, color = 'red'))\n",
    "print(plt.hist(campaign_no['campaign'], alpha = 0.05, color = 'black'))\n",
    "plt.show()"
   ]
  },
  {
   "cell_type": "code",
   "execution_count": 93,
   "metadata": {},
   "outputs": [
    {
     "data": {
      "text/plain": [
       "DescribeResult(nobs=2360, minmax=(1, 23), mean=2.083898305084746, variance=3.146836852731335, skewness=3.613162701620305, kurtosis=21.48406701984228)"
      ]
     },
     "execution_count": 93,
     "metadata": {},
     "output_type": "execute_result"
    }
   ],
   "source": [
    "stats.describe(campaign_yes['campaign'])"
   ]
  },
  {
   "cell_type": "code",
   "execution_count": null,
   "metadata": {},
   "outputs": [],
   "source": []
  }
 ],
 "metadata": {
  "kernelspec": {
   "display_name": "Python 3",
   "language": "python",
   "name": "python3"
  },
  "language_info": {
   "codemirror_mode": {
    "name": "ipython",
    "version": 3
   },
   "file_extension": ".py",
   "mimetype": "text/x-python",
   "name": "python",
   "nbconvert_exporter": "python",
   "pygments_lexer": "ipython3",
   "version": "3.7.3"
  }
 },
 "nbformat": 4,
 "nbformat_minor": 4
}
